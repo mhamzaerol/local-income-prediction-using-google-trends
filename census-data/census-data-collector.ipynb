{
 "cells": [
  {
   "cell_type": "code",
   "execution_count": 1,
   "metadata": {},
   "outputs": [],
   "source": [
    "#import necessary stuff\n",
    "import pandas as pd\n",
    "import requests\n",
    "import os"
   ]
  },
  {
   "cell_type": "code",
   "execution_count": 19,
   "metadata": {},
   "outputs": [],
   "source": [
    "#predefined variables\n",
    "\n",
    "years = range(2021, 2010, -1)\n",
    "geo_hierarchy = ['state', 'county', 'place', 'metropolitan statistical area/micropolitan statistical area']\n",
    "table_name = 'S1901'\n",
    "critical_columns = ['NAME', 'GEO_ID', 'S1901_C01_012E', 'S1901_C01_012M', 'S1901_C01_013E', 'S1901_C01_013M']\n",
    "corresponding_labels = ['Name', 'Geo_id', 'Estimate, Households, Median income (dollars)', 'Margin of Error, Households, Median income (dollars)', 'Estimate, Households, Mean income (dollars)', 'Margin of Error, Households, Mean income (dollars)']"
   ]
  },
  {
   "cell_type": "code",
   "execution_count": 20,
   "metadata": {},
   "outputs": [],
   "source": [
    "#make a request to the census api\n",
    "def make_request(url):\n",
    "    response = requests.get(url)\n",
    "    return response.json()"
   ]
  },
  {
   "cell_type": "code",
   "execution_count": 21,
   "metadata": {},
   "outputs": [],
   "source": [
    "#make a data frame from the response\n",
    "def get_df_from(url):\n",
    "    data = make_request(url)\n",
    "    df = pd.DataFrame(data[1:], columns=data[0])\n",
    "    return df"
   ]
  },
  {
   "cell_type": "code",
   "execution_count": 22,
   "metadata": {},
   "outputs": [],
   "source": [
    "#refine the table by focusing on the relevant columns (mean/median income and error margins)\n",
    "def make_table(year, geo):\n",
    "    census_data = get_df_from(f'https://api.census.gov/data/{year}/acs/acs1/subject?get=group({table_name})&for={geo}:*')\n",
    "    census_data = census_data[critical_columns]\n",
    "    census_data.columns = corresponding_labels\n",
    "    return census_data"
   ]
  },
  {
   "cell_type": "code",
   "execution_count": 23,
   "metadata": {},
   "outputs": [
    {
     "name": "stdout",
     "output_type": "stream",
     "text": [
      "Finished 2021 state table\n",
      "Finished 2021 county table\n",
      "Finished 2021 place table\n",
      "Finished 2021 metropolitan statistical area/micropolitan statistical area table\n",
      "Error with 2020 state table\n",
      "Error with 2020 county table\n",
      "Error with 2020 place table\n",
      "Error with 2020 metropolitan statistical area/micropolitan statistical area table\n",
      "Finished 2019 state table\n",
      "Finished 2019 county table\n",
      "Finished 2019 place table\n",
      "Finished 2019 metropolitan statistical area/micropolitan statistical area table\n",
      "Finished 2018 state table\n",
      "Finished 2018 county table\n",
      "Finished 2018 place table\n",
      "Finished 2018 metropolitan statistical area/micropolitan statistical area table\n",
      "Finished 2017 state table\n",
      "Finished 2017 county table\n",
      "Finished 2017 place table\n",
      "Finished 2017 metropolitan statistical area/micropolitan statistical area table\n",
      "Finished 2016 state table\n",
      "Finished 2016 county table\n",
      "Finished 2016 place table\n",
      "Finished 2016 metropolitan statistical area/micropolitan statistical area table\n",
      "Finished 2015 state table\n",
      "Finished 2015 county table\n",
      "Finished 2015 place table\n",
      "Finished 2015 metropolitan statistical area/micropolitan statistical area table\n",
      "Finished 2014 state table\n",
      "Finished 2014 county table\n",
      "Finished 2014 place table\n",
      "Finished 2014 metropolitan statistical area/micropolitan statistical area table\n",
      "Finished 2013 state table\n",
      "Finished 2013 county table\n",
      "Finished 2013 place table\n",
      "Finished 2013 metropolitan statistical area/micropolitan statistical area table\n",
      "Finished 2012 state table\n",
      "Finished 2012 county table\n",
      "Finished 2012 place table\n",
      "Finished 2012 metropolitan statistical area/micropolitan statistical area table\n",
      "Finished 2011 state table\n",
      "Finished 2011 county table\n",
      "Finished 2011 place table\n",
      "Finished 2011 metropolitan statistical area/micropolitan statistical area table\n"
     ]
    }
   ],
   "source": [
    "#make table for each year and geo level\n",
    "if not os.path.exists('data'):\n",
    "    os.makedirs('data')\n",
    "\n",
    "for year in years:\n",
    "    for geo in geo_hierarchy:\n",
    "        try:\n",
    "            table = make_table(year, geo)\n",
    "            # save as csv\n",
    "            table.to_csv(f'./data/{year}-{geo.replace(\"/\",\"|\")}.csv', index=False)\n",
    "            # inform user\n",
    "            print(f'Finished {year} {geo} table')\n",
    "        except:\n",
    "            print(f'Error with {year} {geo} table')\n",
    "            continue"
   ]
  }
 ],
 "metadata": {
  "kernelspec": {
   "display_name": "Python 3.10.6 ('census-data')",
   "language": "python",
   "name": "python3"
  },
  "language_info": {
   "codemirror_mode": {
    "name": "ipython",
    "version": 3
   },
   "file_extension": ".py",
   "mimetype": "text/x-python",
   "name": "python",
   "nbconvert_exporter": "python",
   "pygments_lexer": "ipython3",
   "version": "3.10.6"
  },
  "orig_nbformat": 4,
  "vscode": {
   "interpreter": {
    "hash": "99d2269ef5886402d8beca1f137e6b0b7316176426a384a5d5f18079d5270b7d"
   }
  }
 },
 "nbformat": 4,
 "nbformat_minor": 2
}
