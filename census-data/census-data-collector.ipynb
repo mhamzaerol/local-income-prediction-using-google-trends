{
 "cells": [
  {
   "cell_type": "code",
   "execution_count": 1,
   "metadata": {},
   "outputs": [],
   "source": [
    "#import necessary stuff\n",
    "import pandas as pd\n",
    "import requests\n",
    "import os\n",
    "import numpy as np"
   ]
  },
  {
   "cell_type": "markdown",
   "metadata": {},
   "source": [
    "## Predefined Variables"
   ]
  },
  {
   "cell_type": "code",
   "execution_count": 2,
   "metadata": {},
   "outputs": [],
   "source": [
    "#predefined variables\n",
    "\n",
    "years = range(2011, 2022)\n",
    "geo_hierarchy = 'county'\n",
    "\n",
    "one_year_estimate_table_name = 'S1901'\n",
    "one_year_supplement_estimate_table_name = 'K201901'\n",
    "five_year_estimate_table_name = 'S1901'"
   ]
  },
  {
   "cell_type": "markdown",
   "metadata": {},
   "source": [
    "## Useful Methods"
   ]
  },
  {
   "cell_type": "code",
   "execution_count": 3,
   "metadata": {},
   "outputs": [],
   "source": [
    "#make a request to the census api\n",
    "def make_request(url):\n",
    "    response = requests.get(url)\n",
    "    return response.json()"
   ]
  },
  {
   "cell_type": "code",
   "execution_count": 4,
   "metadata": {},
   "outputs": [],
   "source": [
    "#make a data frame from the response\n",
    "def get_df_from(url):\n",
    "    data = make_request(url)\n",
    "    df = pd.DataFrame(data[1:], columns=data[0])\n",
    "    return df"
   ]
  },
  {
   "cell_type": "markdown",
   "metadata": {},
   "source": [
    "## One Year Estimate Tables"
   ]
  },
  {
   "cell_type": "code",
   "execution_count": 5,
   "metadata": {},
   "outputs": [
    {
     "name": "stdout",
     "output_type": "stream",
     "text": [
      "saved, 2011!\n",
      "saved, 2012!\n",
      "saved, 2013!\n",
      "saved, 2014!\n",
      "saved, 2015!\n",
      "saved, 2016!\n",
      "saved, 2017!\n",
      "saved, 2018!\n",
      "saved, 2019!\n",
      "Expecting value: line 1 column 1 (char 0)\n",
      "saved, 2021!\n"
     ]
    }
   ],
   "source": [
    "if not os.path.exists('data/one-year-estimates'):\n",
    "    os.makedirs('data/one-year-estimates')\n",
    "\n",
    "for year in years:\n",
    "    url = f'https://api.census.gov/data/{year}/acs/acs1/subject?get=group({one_year_estimate_table_name})&for={geo_hierarchy}:*'\n",
    "    try:\n",
    "        one_year_estimate_table = get_df_from(url)\n",
    "    except Exception as e:\n",
    "        print(e)\n",
    "        continue\n",
    "\n",
    "    critical_columns = ['NAME', 'GEO_ID', 'S1901_C01_002E', 'S1901_C01_003E', 'S1901_C01_004E', 'S1901_C01_005E', 'S1901_C01_006E', 'S1901_C01_007E', 'S1901_C01_008E', 'S1901_C01_009E', 'S1901_C01_010E', 'S1901_C01_011E']\n",
    "    corresponding_labels = ['Name', 'Geo_id', '0 - 9999', '10000 - 14999', '15000 - 24999', '25000 - 34999', '35000 - 49999', '50000 - 74999', '75000 - 99999', '100000 - 149999', '150000 - 199999', '200000 or more']\n",
    "    total_households = one_year_estimate_table['S1901_C01_001E']\n",
    "\n",
    "    total_households = total_households.to_numpy().astype(float)\n",
    "\n",
    "    one_year_estimate_table = one_year_estimate_table[critical_columns]\n",
    "    one_year_estimate_table.columns = corresponding_labels\n",
    "\n",
    "    one_year_estimate_table.iloc[:, 2:] = one_year_estimate_table.iloc[:, 2:].astype(float)\n",
    "    one_year_estimate_table.iloc[:, 2:] = one_year_estimate_table.iloc[:, 2:] / 100 * total_households[:, None]\n",
    "\n",
    "    one_year_estimate_table.to_csv(f'data/one-year-estimates/{year}.csv', index=False)\n",
    "\n",
    "    print(f'saved, {year}!')\n"
   ]
  },
  {
   "cell_type": "markdown",
   "metadata": {},
   "source": [
    "## One Year Supplement Estimate Tables"
   ]
  },
  {
   "cell_type": "code",
   "execution_count": 8,
   "metadata": {},
   "outputs": [
    {
     "name": "stdout",
     "output_type": "stream",
     "text": [
      "Expecting value: line 1 column 1 (char 0)\n",
      "Expecting value: line 1 column 1 (char 0)\n",
      "Expecting value: line 1 column 1 (char 0)\n",
      "saved, 2014!\n",
      "saved, 2015!\n",
      "saved, 2016!\n",
      "saved, 2017!\n",
      "saved, 2018!\n",
      "saved, 2019!\n",
      "Expecting value: line 1 column 1 (char 0)\n",
      "saved, 2021!\n"
     ]
    }
   ],
   "source": [
    "if not os.path.exists('data/one-year-supplement-estimates'):\n",
    "    os.makedirs('data/one-year-supplement-estimates')\n",
    "\n",
    "for year in years:\n",
    "    url = f'https://api.census.gov/data/{year}/acs/acsse?get=group({one_year_supplement_estimate_table_name})&for={geo_hierarchy}:*'\n",
    "    try:\n",
    "        one_year_supplement_estimate_table = get_df_from(url)\n",
    "    except Exception as e:\n",
    "        print(e)\n",
    "        continue\n",
    "\n",
    "    # adjust columns \n",
    "    critical_columns = ['NAME', 'GEO_ID', 'K201901_002E', 'K201901_003E', 'K201901_004E', 'K201901_005E', 'K201901_006E', 'K201901_007E', 'K201901_008E']\n",
    "    corresponding_labels = ['Name', 'Geo_id', '0 - 19999', '20000 - 39999', '40000 - 59999', '60000 - 99999', '100000 - 149999', '150000 - 199999', '200000 or more']\n",
    "\n",
    "    one_year_supplement_estimate_table = one_year_supplement_estimate_table[critical_columns]\n",
    "    one_year_supplement_estimate_table.columns = corresponding_labels\n",
    "    one_year_supplement_estimate_table = one_year_supplement_estimate_table.dropna()\n",
    "    # one_year_supplement_estimate_table.to_csv('data/temp.csv', index=False)\n",
    "    one_year_supplement_estimate_table.iloc[:, 2:] = one_year_supplement_estimate_table.iloc[:, 2:].astype(int)\n",
    "\n",
    "    one_year_supplement_estimate_table.to_csv(f'data/one-year-supplement-estimates/{year}.csv', index=False)\n",
    "\n",
    "    print(f'saved, {year}!')\n",
    "\n"
   ]
  },
  {
   "cell_type": "markdown",
   "metadata": {},
   "source": [
    "## Five Year Estimate Tables"
   ]
  },
  {
   "cell_type": "code",
   "execution_count": 10,
   "metadata": {},
   "outputs": [
    {
     "name": "stdout",
     "output_type": "stream",
     "text": [
      "saved, 2011!\n",
      "saved, 2012!\n",
      "saved, 2013!\n",
      "saved, 2014!\n",
      "saved, 2015!\n",
      "saved, 2016!\n",
      "saved, 2017!\n",
      "saved, 2018!\n",
      "saved, 2019!\n",
      "saved, 2020!\n",
      "Expecting value: line 1 column 1 (char 0)\n"
     ]
    }
   ],
   "source": [
    "if not os.path.exists('data/five-year-estimates'):\n",
    "    os.makedirs('data/five-year-estimates')\n",
    "\n",
    "for year in years:\n",
    "    url = f'https://api.census.gov/data/{year}/acs/acs5/subject?get=group({five_year_estimate_table_name})&for={geo_hierarchy}:*'\n",
    "    try:\n",
    "        five_year_estimate_table = get_df_from(url)\n",
    "    except Exception as e:\n",
    "        print(e)\n",
    "        continue\n",
    "    \n",
    "    # adjust columns \n",
    "    critical_columns = ['NAME', 'GEO_ID', 'S1901_C01_002E', 'S1901_C01_003E', 'S1901_C01_004E', 'S1901_C01_005E', 'S1901_C01_006E', 'S1901_C01_007E', 'S1901_C01_008E', 'S1901_C01_009E', 'S1901_C01_010E', 'S1901_C01_011E']\n",
    "    corresponding_labels = ['Name', 'Geo_id', '0 - 9999', '10000 - 14999', '15000 - 24999', '25000 - 34999', '35000 - 49999', '50000 - 74999', '75000 - 99999', '100000 - 149999', '150000 - 199999', '200000 or more']\n",
    "    total_households = five_year_estimate_table['S1901_C01_001E']\n",
    "\n",
    "    total_households = total_households.to_numpy().astype(float)\n",
    "\n",
    "    five_year_estimate_table = five_year_estimate_table[critical_columns]\n",
    "    five_year_estimate_table.columns = corresponding_labels\n",
    "\n",
    "    five_year_estimate_table.iloc[:, 2:] = five_year_estimate_table.iloc[:, 2:].astype(float)\n",
    "    five_year_estimate_table.iloc[:, 2:] = five_year_estimate_table.iloc[:, 2:] / 100 * total_households[:, None]\n",
    "\n",
    "    five_year_estimate_table.to_csv(f'data/five-year-estimates/{year}.csv', index=False)    \n",
    "\n",
    "    print(f'saved, {year}!')"
   ]
  }
 ],
 "metadata": {
  "kernelspec": {
   "display_name": "Python 3.10.6",
   "language": "python",
   "name": "python3"
  },
  "language_info": {
   "codemirror_mode": {
    "name": "ipython",
    "version": 3
   },
   "file_extension": ".py",
   "mimetype": "text/x-python",
   "name": "python",
   "nbconvert_exporter": "python",
   "pygments_lexer": "ipython3",
   "version": "3.10.6"
  },
  "orig_nbformat": 4,
  "vscode": {
   "interpreter": {
    "hash": "99d2269ef5886402d8beca1f137e6b0b7316176426a384a5d5f18079d5270b7d"
   }
  }
 },
 "nbformat": 4,
 "nbformat_minor": 2
}
