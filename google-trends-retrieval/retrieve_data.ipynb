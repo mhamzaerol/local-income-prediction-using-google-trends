{
 "cells": [
  {
   "cell_type": "markdown",
   "metadata": {},
   "source": [
    "### Import necessary stuff"
   ]
  },
  {
   "cell_type": "code",
   "execution_count": 1,
   "metadata": {},
   "outputs": [],
   "source": [
    "import pandas as pd\n",
    "from pytrends.request import TrendReq\n",
    "\n",
    "pytrends = TrendReq(hl='en-US', tz=360)"
   ]
  },
  {
   "cell_type": "markdown",
   "metadata": {},
   "source": [
    "### Attributes to be changed depending on the retrieval"
   ]
  },
  {
   "cell_type": "code",
   "execution_count": 5,
   "metadata": {},
   "outputs": [],
   "source": [
    "kw_list = ['']\n",
    "date_range = '2021-01-01 2021-12-31'\n",
    "geos = ['US-CA-825', 'US-CA-862']\n",
    "cats = [47, 16]\n"
   ]
  },
  {
   "cell_type": "code",
   "execution_count": 6,
   "metadata": {},
   "outputs": [],
   "source": [
    "data = dict()\n",
    "for geo in geos:\n",
    "    geo_dict = dict()\n",
    "    for cat in cats:\n",
    "        pytrends.build_payload(kw_list, cat=cat, timeframe=date_range, geo=geo, gprop='')\n",
    "        df = pytrends.interest_over_time()\n",
    "        geo_dict[cat] = df\n",
    "    data[geo] = geo_dict"
   ]
  },
  {
   "cell_type": "code",
   "execution_count": 10,
   "metadata": {},
   "outputs": [
    {
     "name": "stdout",
     "output_type": "stream",
     "text": [
      "dict_keys(['US-CA-825', 'US-CA-862'])\n",
      "dict_keys([47, 16])\n",
      "                isPartial\n",
      "date                     \n",
      "2021-11-14  51      False\n",
      "2021-12-19  67      False\n",
      "2021-05-09  59      False\n",
      "2021-08-01  49      False\n",
      "2021-08-29  56      False\n"
     ]
    }
   ],
   "source": [
    "print(data.keys())\n",
    "print(data['US-CA-825'].keys())\n",
    "print(data['US-CA-825'][16].sample(5))"
   ]
  }
 ],
 "metadata": {
  "kernelspec": {
   "display_name": "Python 3.8.13 ('pytrends')",
   "language": "python",
   "name": "python3"
  },
  "language_info": {
   "codemirror_mode": {
    "name": "ipython",
    "version": 3
   },
   "file_extension": ".py",
   "mimetype": "text/x-python",
   "name": "python",
   "nbconvert_exporter": "python",
   "pygments_lexer": "ipython3",
   "version": "3.8.13"
  },
  "orig_nbformat": 4,
  "vscode": {
   "interpreter": {
    "hash": "0cd2c52703b042b089db119a5c2efde17960916f12537792dd80774116842d7a"
   }
  }
 },
 "nbformat": 4,
 "nbformat_minor": 2
}
