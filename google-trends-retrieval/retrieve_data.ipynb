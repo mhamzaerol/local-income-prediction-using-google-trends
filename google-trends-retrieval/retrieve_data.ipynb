{
 "cells": [
  {
   "cell_type": "markdown",
   "metadata": {},
   "source": [
    "### Import necessary stuff"
   ]
  },
  {
   "cell_type": "code",
   "execution_count": 32,
   "metadata": {},
   "outputs": [],
   "source": [
    "import os\n",
    "import time\n",
    "\n",
    "import numpy as np\n",
    "import pandas as pd\n",
    "from pytrends.request import TrendReq\n",
    "\n",
    "pytrends = TrendReq(hl='en-US', tz=360)"
   ]
  },
  {
   "cell_type": "markdown",
   "metadata": {},
   "source": [
    "### Attributes to be changed depending on the retrieval"
   ]
  },
  {
   "cell_type": "code",
   "execution_count": 33,
   "metadata": {},
   "outputs": [],
   "source": [
    "kw_list = ['']\n",
    "date_range = lambda year : f'{year}-01-01 {year}-12-31'\n",
    "cats = [47, 16]\n",
    "\n",
    "df_list = []\n",
    "for i in range(1, 4):\n",
    "    df_list.append(pd.read_csv(f'../census-google_trends-matching/data/metro_areas_table_{i}.csv'))\n",
    "\n",
    "year_list = []\n",
    "for i in range(3):\n",
    "    years = []\n",
    "    for col in df_list[i].columns:\n",
    "        if 'median_income_' in col:\n",
    "            years.append(col.split('_')[-1])\n",
    "    years.reverse()\n",
    "    year_list.append(years)\n",
    "\n",
    "feat_list = dict()"
   ]
  },
  {
   "cell_type": "code",
   "execution_count": 34,
   "metadata": {},
   "outputs": [
    {
     "name": "stdout",
     "output_type": "stream",
     "text": [
      "                        name state_id   id  median_income_2011  \\\n",
      "0               Baltimore MD       MD  512            68391.04   \n",
      "1  Flint-Saginaw-Bay City MI       MI  513            43836.32   \n",
      "2                 Buffalo NY       NY  514            47179.47   \n",
      "3              Cincinnati OH       IN  515            54131.45   \n",
      "4                    Erie PA       PA  516            43991.54   \n",
      "\n",
      "   median_income_2012  median_income_2013  median_income_2014  \\\n",
      "0            68928.28            69424.24            70117.38   \n",
      "1            43635.57            43021.42            43496.56   \n",
      "2            48039.91            48387.03            48968.55   \n",
      "3            54211.58            54087.13            54643.44   \n",
      "4            44754.73            44871.36            45493.37   \n",
      "\n",
      "   median_income_2015  median_income_2016  median_income_2017  \\\n",
      "0            70638.12            72217.83            74800.76   \n",
      "1            43838.59            44553.31            46042.25   \n",
      "2            49233.45            50591.79            51997.30   \n",
      "3            55090.73            56518.81            58975.13   \n",
      "4            45977.75            46963.67            47976.93   \n",
      "\n",
      "   median_income_2018  median_income_2019  median_income_2020  \n",
      "0            77993.55            81272.49            83348.86  \n",
      "1            47740.96            49142.99            50455.48  \n",
      "2            54285.69            56389.05            57887.94  \n",
      "3            61219.15            63838.19            66076.05  \n",
      "4            49433.01            51341.98            52756.56  \n",
      "[['2020', '2019', '2018', '2017', '2016', '2015', '2014', '2013', '2012', '2011'], ['2019', '2018', '2017', '2016', '2015', '2014'], ['2021', '2019', '2018', '2017', '2016', '2015', '2014']]\n"
     ]
    }
   ],
   "source": [
    "print(df_list[0].head())\n",
    "print(year_list)"
   ]
  },
  {
   "cell_type": "code",
   "execution_count": 44,
   "metadata": {},
   "outputs": [],
   "source": [
    "years_indexing, geo_indexing= [], []\n",
    "lookup_table = dict()\n",
    "for i in range(3):\n",
    "    df_list[i].reset_index()\n",
    "    years = year_list[i]\n",
    "    for year in years:\n",
    "        for _, row in df_list[i].iterrows():\n",
    "            geo = f\"US-{row['state_id']}-{row['id']}\"\n",
    "            key = f\"{geo}-{year}\"\n",
    "            if key not in lookup_table.keys():\n",
    "                lookup_table[key] = 0\n",
    "                years_indexing.append(year)\n",
    "                geo_indexing.append(geo)"
   ]
  },
  {
   "cell_type": "markdown",
   "metadata": {},
   "source": [
    "### If the index file is not present save them"
   ]
  },
  {
   "cell_type": "code",
   "execution_count": 46,
   "metadata": {},
   "outputs": [],
   "source": [
    "df = pd.DataFrame({'geo': geo_indexing, 'year': years_indexing})\n",
    "df.head()\n",
    "df.to_csv('data/geo_year_idx.csv')"
   ]
  },
  {
   "cell_type": "markdown",
   "metadata": {},
   "source": [
    "### Utility functions for data retrieval"
   ]
  },
  {
   "cell_type": "code",
   "execution_count": 47,
   "metadata": {},
   "outputs": [],
   "source": [
    "def feature_valid(feature):\n",
    "    if (feature != feature).any():\n",
    "        return False\n",
    "    if (feature > 100).any() or (feature < 0).any():\n",
    "        return False\n",
    "    return True"
   ]
  },
  {
   "cell_type": "markdown",
   "metadata": {},
   "source": [
    "### Continue retrieval from checkpoint"
   ]
  },
  {
   "cell_type": "code",
   "execution_count": null,
   "metadata": {},
   "outputs": [],
   "source": [
    "ckpt_dir = ''\n",
    "save_dir = 'data/trends_data_0.npy'\n",
    "cur_data_size = 0\n",
    "if ckpt_dir == '' or not os.path.exists(ckpt_dir):\n",
    "    print(\"Checkpoint not found!\")\n",
    "else:\n",
    "    ckpt_data = np.load(ckpt_dir)\n",
    "    cur_data_size = ckpt_data.shape[0]"
   ]
  },
  {
   "cell_type": "code",
   "execution_count": 36,
   "metadata": {},
   "outputs": [
    {
     "name": "stdout",
     "output_type": "stream",
     "text": [
      "(2, 52)\n"
     ]
    }
   ],
   "source": [
    "feat_list = []\n",
    "\n",
    "for i in range(3):\n",
    "    df_list[i].reset_index()\n",
    "    years = year_list[i]\n",
    "    for year in years:\n",
    "        for index, row in df_list[i].iterrows():\n",
    "            geo = f\"US-{row['state_id']}-{row['id']}\"\n",
    "            key = f\"{geo}-{year}\"\n",
    "            if lookup_table[key] != 0:\n",
    "                continue\n",
    "            if cur_data_size != 0:\n",
    "                lookup_table[key] = 1\n",
    "                cur_data_size -= 1\n",
    "                continue\n",
    "            feats = []\n",
    "            for cat in cats:\n",
    "                pytrends.build_payload(kw_list, cat=cat, timeframe=date_range(year), geo=geo, gprop='')\n",
    "                feat = pytrends.interest_over_time()\n",
    "                if not feature_valid(feat):\n",
    "                    print(\"Invalid feature!\")\n",
    "                feats.append(feat[''].to_numpy()[:52])\n",
    "                time.sleep((np.random.rand() + 0.2) * 5)\n",
    "            feat_list.append(np.array(feats))\n",
    "            lookup_table[key] = 1"
   ]
  },
  {
   "cell_type": "markdown",
   "metadata": {},
   "source": [
    "### Remove invalid data on feat_list manually here"
   ]
  },
  {
   "cell_type": "code",
   "execution_count": null,
   "metadata": {},
   "outputs": [],
   "source": [
    "# Remove invalid data\n",
    "# feat_list = ...\n",
    "feat_list = np.array(feat_list)"
   ]
  },
  {
   "cell_type": "markdown",
   "metadata": {},
   "source": [
    "### Save the data"
   ]
  },
  {
   "cell_type": "code",
   "execution_count": null,
   "metadata": {},
   "outputs": [],
   "source": [
    "prev_data = np.load(ckpt_dir)\n",
    "full_feat = np.concatenate((prev_data, feat_list), axis=0)\n",
    "np.save(save_dir, full_feat)"
   ]
  }
 ],
 "metadata": {
  "kernelspec": {
   "display_name": "Python 3.8.13 ('pytrends')",
   "language": "python",
   "name": "python3"
  },
  "language_info": {
   "codemirror_mode": {
    "name": "ipython",
    "version": 3
   },
   "file_extension": ".py",
   "mimetype": "text/x-python",
   "name": "python",
   "nbconvert_exporter": "python",
   "pygments_lexer": "ipython3",
   "version": "3.8.13"
  },
  "orig_nbformat": 4,
  "vscode": {
   "interpreter": {
    "hash": "0cd2c52703b042b089db119a5c2efde17960916f12537792dd80774116842d7a"
   }
  }
 },
 "nbformat": 4,
 "nbformat_minor": 2
}
