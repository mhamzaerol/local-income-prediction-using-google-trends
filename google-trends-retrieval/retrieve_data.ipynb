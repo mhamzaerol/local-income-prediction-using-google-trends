{
 "cells": [
  {
   "cell_type": "markdown",
   "metadata": {},
   "source": [
    "### Import necessary stuff"
   ]
  },
  {
   "cell_type": "code",
   "execution_count": 1,
   "metadata": {},
   "outputs": [],
   "source": [
    "import os\n",
    "import time\n",
    "import json\n",
    "\n",
    "import numpy as np\n",
    "import pandas as pd\n",
    "from pytrends.request import TrendReq\n",
    "\n",
    "pytrends = TrendReq(hl='en-US', tz=360)"
   ]
  },
  {
   "cell_type": "markdown",
   "metadata": {},
   "source": [
    "### Attributes to be changed depending on the retrieval"
   ]
  },
  {
   "cell_type": "code",
   "execution_count": 2,
   "metadata": {},
   "outputs": [],
   "source": [
    "kw_list = ['']\n",
    "date_range = lambda year : f'{year}-01-01 {year}-12-31'\n",
    "cats = [1220, 38, 60]#, 310, 899, 229, 277, 75, 366, 59, 54, 29, 78, 67, 1140, 1147]\n",
    "\n",
    "df_list = []\n",
    "for i in range(1, 4):\n",
    "    df_list.append(pd.read_csv(f'../census-google_trends-matching/data/metro_areas_table_{i}.csv'))\n",
    "\n",
    "year_list = []\n",
    "for i in range(3):\n",
    "    years = []\n",
    "    for col in df_list[i].columns:\n",
    "        if 'median_income_' in col:\n",
    "            years.append(col.split('_')[-1])\n",
    "    years.reverse()\n",
    "    year_list.append(years)"
   ]
  },
  {
   "cell_type": "code",
   "execution_count": 3,
   "metadata": {},
   "outputs": [
    {
     "name": "stdout",
     "output_type": "stream",
     "text": [
      "                        name state_id  ...  median_income_2019  median_income_2020\n",
      "0               Baltimore MD       MD  ...            81272.49            83348.86\n",
      "1  Flint-Saginaw-Bay City MI       MI  ...            49142.99            50455.48\n",
      "2                 Buffalo NY       NY  ...            56389.05            57887.94\n",
      "3              Cincinnati OH       IN  ...            63838.19            66076.05\n",
      "4                    Erie PA       PA  ...            51341.98            52756.56\n",
      "\n",
      "[5 rows x 13 columns]\n",
      "[['2020', '2019', '2018', '2017', '2016', '2015', '2014', '2013', '2012', '2011'], ['2019', '2018', '2017', '2016', '2015', '2014'], ['2021', '2019', '2018', '2017', '2016', '2015', '2014']]\n"
     ]
    }
   ],
   "source": [
    "print(df_list[0].head())\n",
    "print(year_list)"
   ]
  },
  {
   "cell_type": "code",
   "execution_count": 4,
   "metadata": {},
   "outputs": [],
   "source": [
    "years_indexing, geo_indexing= [], []\n",
    "lookup_table = dict()\n",
    "for i in range(3):\n",
    "    df_list[i].reset_index()\n",
    "    years = year_list[i]\n",
    "    for year in years:\n",
    "        for _, row in df_list[i].iterrows():\n",
    "            geo = f\"US-{row['state_id']}-{row['id']}\"\n",
    "            key = f\"{geo}-{year}\"\n",
    "            if key not in lookup_table.keys():\n",
    "                lookup_table[key] = 0\n",
    "                years_indexing.append(year)\n",
    "                geo_indexing.append(geo)"
   ]
  },
  {
   "cell_type": "markdown",
   "metadata": {},
   "source": [
    "### If the index file is not present save them"
   ]
  },
  {
   "cell_type": "code",
   "execution_count": 5,
   "metadata": {},
   "outputs": [],
   "source": [
    "df = pd.DataFrame({'geo': geo_indexing, 'year': years_indexing})\n",
    "df.head()\n",
    "df.to_csv('data/geo_year_idx.csv')"
   ]
  },
  {
   "cell_type": "markdown",
   "metadata": {},
   "source": [
    "### Utility functions for data retrieval"
   ]
  },
  {
   "cell_type": "code",
   "execution_count": 6,
   "metadata": {},
   "outputs": [],
   "source": [
    "def feature_valid(feature):\n",
    "    if (feature != feature).any():\n",
    "        return False\n",
    "    if (feature > 100).any() or (feature < 0).any():\n",
    "        return False\n",
    "    return True"
   ]
  },
  {
   "cell_type": "markdown",
   "metadata": {},
   "source": [
    "### Continue retrieval from checkpoint"
   ]
  },
  {
   "cell_type": "code",
   "execution_count": 17,
   "metadata": {},
   "outputs": [],
   "source": [
    "ckpt_dir = 'data/trends_data_1.json'\n",
    "save_dir = 'data/trends_data_2.json'\n",
    "feat_json = dict()\n",
    "if ckpt_dir == '' or not os.path.exists(ckpt_dir):\n",
    "    print(\"Checkpoint not found!\")\n",
    "else:\n",
    "    with open(ckpt_dir, 'r') as f:\n",
    "        feat_json = json.load(f)"
   ]
  },
  {
   "cell_type": "code",
   "execution_count": 20,
   "metadata": {},
   "outputs": [
    {
     "name": "stdout",
     "output_type": "stream",
     "text": [
      "Total of 738 points!\r"
     ]
    },
    {
     "ename": "Exception",
     "evalue": "Failed to retrieve data!",
     "output_type": "error",
     "traceback": [
      "\u001b[0;31m---------------------------------------------------------------------------\u001b[0m",
      "\u001b[0;31mException\u001b[0m                                 Traceback (most recent call last)",
      "Cell \u001b[0;32mIn [20], line 20\u001b[0m\n\u001b[1;32m     18\u001b[0m         time\u001b[39m.\u001b[39msleep(\u001b[39m60.0\u001b[39m)\n\u001b[1;32m     19\u001b[0m \u001b[39mif\u001b[39;00m num_trials \u001b[39m==\u001b[39m \u001b[39m3\u001b[39m:\n\u001b[0;32m---> 20\u001b[0m     \u001b[39mraise\u001b[39;00m \u001b[39mException\u001b[39;00m(\u001b[39m\"\u001b[39m\u001b[39mFailed to retrieve data!\u001b[39m\u001b[39m\"\u001b[39m)\n\u001b[1;32m     22\u001b[0m f_numpy \u001b[39m=\u001b[39m feat[\u001b[39m'\u001b[39m\u001b[39m'\u001b[39m]\u001b[39m.\u001b[39mto_numpy()[:\u001b[39m52\u001b[39m]\n\u001b[1;32m     23\u001b[0m \u001b[39mif\u001b[39;00m \u001b[39mnot\u001b[39;00m feature_valid(f_numpy):\n",
      "\u001b[0;31mException\u001b[0m: Failed to retrieve data!"
     ]
    }
   ],
   "source": [
    "for i in range(3):\n",
    "    df_list[i].reset_index()\n",
    "    years = year_list[i]\n",
    "    for year in years:\n",
    "        for index, row in df_list[i].iterrows():\n",
    "            geo = f\"US-{row['state_id']}-{row['id']}\"\n",
    "            key = f\"{geo}-{year}\"\n",
    "            if key in feat_json.keys():\n",
    "                continue\n",
    "            feats = []\n",
    "            for cat in cats:\n",
    "                for num_trials in range(4):\n",
    "                    try:\n",
    "                        pytrends.build_payload(kw_list, cat=cat, timeframe=date_range(year), geo=geo, gprop='')\n",
    "                        feat = pytrends.interest_over_time()\n",
    "                        break\n",
    "                    except:\n",
    "                        time.sleep(60.0)\n",
    "                if num_trials == 3:\n",
    "                    raise Exception(\"Failed to retrieve data!\")\n",
    "\n",
    "                f_numpy = feat[''].to_numpy()[:52]\n",
    "                if not feature_valid(f_numpy):\n",
    "                    print(\"Invalid feature!\")\n",
    "                feats.append(f_numpy)\n",
    "            feat_final = np.array(feats)\n",
    "            feat_json[key] = feat_final.tolist()\n",
    "            with open(save_dir, 'w') as f:\n",
    "                json.dump(feat_json, f, indent=4)\n",
    "            print(f\"Total of {len(feat_json.keys())} points!\", end=\"\\r\")"
   ]
  },
  {
   "cell_type": "code",
   "execution_count": 18,
   "metadata": {},
   "outputs": [
    {
     "data": {
      "text/plain": [
       "729"
      ]
     },
     "execution_count": 18,
     "metadata": {},
     "output_type": "execute_result"
    }
   ],
   "source": [
    "len(feat_json.keys())"
   ]
  },
  {
   "cell_type": "markdown",
   "metadata": {},
   "source": [
    "### Remove invalid data on feat_list manually here"
   ]
  },
  {
   "cell_type": "code",
   "execution_count": null,
   "metadata": {},
   "outputs": [],
   "source": [
    "# Remove invalid data\n",
    "# feat_list = ...\n",
    "feat_list = np.array(feat_list)"
   ]
  },
  {
   "cell_type": "markdown",
   "metadata": {},
   "source": [
    "### Save the data"
   ]
  },
  {
   "cell_type": "code",
   "execution_count": null,
   "metadata": {},
   "outputs": [],
   "source": [
    "prev_data = np.load(ckpt_dir)\n",
    "full_feat = np.concatenate((prev_data, feat_list), axis=0)\n",
    "np.save(save_dir, full_feat)"
   ]
  }
 ],
 "metadata": {
  "kernelspec": {
   "display_name": "Python 3.8.13 ('pytrends')",
   "language": "python",
   "name": "python3"
  },
  "language_info": {
   "codemirror_mode": {
    "name": "ipython",
    "version": 3
   },
   "file_extension": ".py",
   "mimetype": "text/x-python",
   "name": "python",
   "nbconvert_exporter": "python",
   "pygments_lexer": "ipython3",
   "version": "3.8.13"
  },
  "orig_nbformat": 4,
  "vscode": {
   "interpreter": {
    "hash": "0cd2c52703b042b089db119a5c2efde17960916f12537792dd80774116842d7a"
   }
  }
 },
 "nbformat": 4,
 "nbformat_minor": 2
}
